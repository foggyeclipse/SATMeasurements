{
 "cells": [
  {
   "attachments": {},
   "cell_type": "markdown",
   "metadata": {},
   "source": [
    "## Measurements SAT\n",
    "\n",
    "Данный эксперимент выполнен ноутбуке модели __Apple MacBook Pro 13 Early 2015__\n",
    "> Оперативная память: 8 ГБ  \n",
    "> Линейка процессора: Intel Core i5  \n",
    "> Видеокарта: Intel Iris Graphics 6100  \n",
    "> Общий объем накопителей SSD: 128 ГБ  \n",
    "> Версия ОС: macOS Monterey 12.6.5  \n",
    "> Количество ядер процессора: 2  \n",
    "\n",
    "### I. Подготовка тестового стенда \n",
    "Для проведения данного эксперимента были выполнены следующие действия:\n",
    "1. Отключены обновления \n",
    "2. Очистка дискового кэша\n",
    "3. Отключенна фоновая музыкам \n",
    "4. Закрыты браузеры\n",
    "5. Стабилизированна частота CPU (выставленна на максимальную)\n",
    "\n",
    "### II. Проведение серии измерений\n",
    "Данные, на которых будет проводится эксперимеримент:    \n",
    "* [Файл с данными](TestFile/TestFile_325.txt)\n",
    "\n",
    "Была выполнена проверка алгорима, входных данных и средств измерения на адекватнсть.\n",
    "\n"
   ]
  },
  {
   "attachments": {},
   "cell_type": "markdown",
   "metadata": {},
   "source": [
    "### III. Подготовка к анализу "
   ]
  },
  {
   "cell_type": "code",
   "execution_count": 87,
   "metadata": {},
   "outputs": [
    {
     "name": "stdout",
     "output_type": "stream",
     "text": [
      "[0.285, 0.27, 0.283, 0.275, 0.27, 0.271, 0.267, 0.268, 0.27, 0.267, 0.265, 0.274, 0.274, 0.272, 0.281, 0.282, 0.274, 0.268, 0.27, 0.269, 0.267, 0.274, 0.289, 0.278, 0.282, 0.283, 0.28, 0.281, 0.277, 0.282, 0.273, 0.283, 0.275, 0.287, 0.278, 0.268, 0.266, 0.269, 0.269, 0.264]\n"
     ]
    }
   ],
   "source": [
    "results = '00:285\t00:270\t00:283\t00:275\t00:270\t00:271\t00:267\t00:268\t00:270\t00:267\t00:265\t00:274\t00:274\t00:272\t00:281\t00:282\t00:274\t00:268\t00:270\t00:269\t00:267\t00:274\t00:289\t00:278\t00:282\t00:283\t00:280\t00:281\t00:277\t00:282\t00:273\t00:283\t00:275\t00:287\t00:278\t00:268\t00:266\t00:269\t00:269\t00:264'\n",
    "t = []\n",
    "for i in results.split('\\t'):\n",
    "    t.append(float('0.'+i[3:]))\n",
    "print(t)"
   ]
  },
  {
   "cell_type": "code",
   "execution_count": 88,
   "metadata": {},
   "outputs": [
    {
     "data": {
      "image/png": "[encoded data removed]",
      "text/plain": [
       "<Figure size 640x480 with 1 Axes>"
      ]
     },
     "metadata": {},
     "output_type": "display_data"
    }
   ],
   "source": [
    "from scipy import stats\n",
    "import numpy as np\n",
    "import matplotlib.pyplot as plt\n",
    "\n",
    "plt.hist(t,facecolor = 'pink')\n",
    "plt.show()"
   ]
  },
  {
   "attachments": {},
   "cell_type": "markdown",
   "metadata": {},
   "source": [
    "### IV. Изучение распределения данных \n",
    "\n",
    "Полученные данные были изученны на построенной гистограмме."
   ]
  },
  {
   "attachments": {},
   "cell_type": "markdown",
   "metadata": {},
   "source": [
    "### V. Выполненые проверки данных на тестах на нормальность \n",
    "\n",
    "Признаком успешного прохождения является выполнение p_value > 0.05 на тесте, проведенном ниже.      \n",
    "__p_value:__ 0.043708961457014084\n"
   ]
  },
  {
   "cell_type": "code",
   "execution_count": 89,
   "metadata": {},
   "outputs": [
    {
     "name": "stdout",
     "output_type": "stream",
     "text": [
      "ShapiroResult(statistic=0.9430068731307983, pvalue=0.043708961457014084)\n"
     ]
    }
   ],
   "source": [
    "p_value = stats.shapiro(t)\n",
    "print(p_value)"
   ]
  },
  {
   "attachments": {},
   "cell_type": "markdown",
   "metadata": {},
   "source": [
    "### Vi. Вычисление среднего, стандартного отклонения и стандартного отклонения среднего\n",
    "\n",
    "__Среднее отклонение:__ 0.3    \n",
    "__Стандартное отклонение:__ 0.007    \n",
    "__Стандартное отклонение среднего:__ 0.001"
   ]
  },
  {
   "cell_type": "code",
   "execution_count": 90,
   "metadata": {},
   "outputs": [
    {
     "name": "stdout",
     "output_type": "stream",
     "text": [
      "0.2745\n"
     ]
    }
   ],
   "source": [
    "mean = np.mean(t) \n",
    "print(mean)"
   ]
  },
  {
   "cell_type": "code",
   "execution_count": 91,
   "metadata": {},
   "outputs": [
    {
     "name": "stdout",
     "output_type": "stream",
     "text": [
      "0.00673681047563424\n"
     ]
    }
   ],
   "source": [
    "std = np.std(t,ddof=1) \n",
    "print(std)"
   ]
  },
  {
   "cell_type": "code",
   "execution_count": 92,
   "metadata": {},
   "outputs": [
    {
     "name": "stdout",
     "output_type": "stream",
     "text": [
      "0.0010651832633943234\n"
     ]
    }
   ],
   "source": [
    "std_mean = std/np.sqrt(len(t)) \n",
    "print(std_mean)"
   ]
  },
  {
   "attachments": {},
   "cell_type": "markdown",
   "metadata": {},
   "source": [
    "### VII. Вычисление погрешности стандартного оклонения и погрешности стандартного отклонения среднего\n",
    "\n",
    "__Погрешность стандартного оклонения:__ 0.013    \n",
    "__Погрешность стандартного отклонения среднего:__ 0.002"
   ]
  },
  {
   "cell_type": "code",
   "execution_count": 93,
   "metadata": {},
   "outputs": [
    {
     "name": "stdout",
     "output_type": "stream",
     "text": [
      "0.01347362095126848\n"
     ]
    }
   ],
   "source": [
    "error_std = 2 * std \n",
    "print(error_std)"
   ]
  },
  {
   "cell_type": "code",
   "execution_count": 94,
   "metadata": {},
   "outputs": [
    {
     "name": "stdout",
     "output_type": "stream",
     "text": [
      "0.002130366526788647\n"
     ]
    }
   ],
   "source": [
    "error_std_mean = 2 * std_mean\n",
    "print(error_std_mean)"
   ]
  },
  {
   "attachments": {},
   "cell_type": "markdown",
   "metadata": {},
   "source": [
    "### VIII. Вычисление предсказывающего и доверительного интервалов\n",
    "\n",
    "__Предсказывающий интервал:__ 0.3 $\\pm$ 0.013    \n",
    "__Доверительный интервал:__ 0.3 $\\pm$ 0.002"
   ]
  }
 ],
 "metadata": {
  "kernelspec": {
   "display_name": "Python 3",
   "language": "python",
   "name": "python3"
  },
  "language_info": {
   "codemirror_mode": {
    "name": "ipython",
    "version": 3
   },
   "file_extension": ".py",
   "mimetype": "text/x-python",
   "name": "python",
   "nbconvert_exporter": "python",
   "pygments_lexer": "ipython3",
   "version": "3.11.3"
  },
  "orig_nbformat": 4
 },
 "nbformat": 4,
 "nbformat_minor": 2
}
