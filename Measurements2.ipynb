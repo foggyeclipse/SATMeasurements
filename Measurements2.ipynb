{
 "cells": [
  {
   "attachments": {},
   "cell_type": "markdown",
   "metadata": {},
   "source": [
    "## Measurements SAT\n",
    "\n",
    "__p_value_shapiro:__ 0.16670317947864532        \n",
    "__p_value_normaltest:__ 0.247785075593781           \n",
    "__Среднее:__ 0.2755500000000001    \n",
    "__Стандартное отклонение:__ 0.0027451589090428715   \n",
    "__Стандартное отклонение среднего:__ 0.0004340477345839236  \n",
    "$2 * \\sigma_{с.о.}$ = 0.005  \n",
    "$2 * \\sigma_{с.о.с.}$ = 0.0009       \n",
    "__95% Предсказывающий интервал:__ 0.276 $\\pm$ 0.005    \n",
    "__95% Доверительный интервал:__ 0.2756 $\\pm$ 0.0009\n"
   ]
  },
  {
   "cell_type": "code",
   "execution_count": 1,
   "metadata": {},
   "outputs": [
    {
     "name": "stdout",
     "output_type": "stream",
     "text": [
      "[0.281, 0.278, 0.272, 0.271, 0.274, 0.272, 0.272, 0.274, 0.277, 0.276, 0.273, 0.277, 0.278, 0.279, 0.279, 0.273, 0.276, 0.277, 0.278, 0.275, 0.273, 0.271, 0.275, 0.274, 0.278, 0.281, 0.277, 0.277, 0.277, 0.273, 0.273, 0.279, 0.275, 0.276, 0.273, 0.274, 0.272, 0.28, 0.276, 0.276]\n"
     ]
    }
   ],
   "source": [
    "results = '00:281\t00:278\t00:272\t00:271\t00:274\t00:272\t00:272\t00:274\t00:277\t00:276\t00:273\t00:277\t00:278\t00:279\t00:279\t00:273\t00:276\t00:277\t00:278\t00:275\t00:273\t00:271\t00:275\t00:274\t00:278\t00:281\t00:277\t00:277\t00:277\t00:273\t00:273\t00:279\t00:275\t00:276\t00:273\t00:274\t00:272\t00:280\t00:276\t00:276'\n",
    "t = []\n",
    "for i in results.split('\\t'):\n",
    "    t.append(float('0.'+i[3:]))\n",
    "print(t)"
   ]
  },
  {
   "cell_type": "code",
   "execution_count": 2,
   "metadata": {},
   "outputs": [
    {
     "data": {
      "image/png": "[encoded data removed]",
      "text/plain": [
       "<Figure size 640x480 with 1 Axes>"
      ]
     },
     "metadata": {},
     "output_type": "display_data"
    }
   ],
   "source": [
    "from scipy import stats\n",
    "import numpy as np\n",
    "import matplotlib.pyplot as plt\n",
    "\n",
    "plt.hist(t,facecolor = 'pink')\n",
    "plt.show()"
   ]
  },
  {
   "cell_type": "code",
   "execution_count": 3,
   "metadata": {},
   "outputs": [
    {
     "name": "stdout",
     "output_type": "stream",
     "text": [
      "ShapiroResult(statistic=0.9599395990371704, pvalue=0.16670317947864532)\n"
     ]
    }
   ],
   "source": [
    "p_value = stats.shapiro(t)\n",
    "print(p_value)"
   ]
  },
  {
   "cell_type": "code",
   "execution_count": 9,
   "metadata": {},
   "outputs": [
    {
     "name": "stdout",
     "output_type": "stream",
     "text": [
      "0.247785075593781\n"
     ]
    }
   ],
   "source": [
    "(stat,p_value) = stats.normaltest(t)\n",
    "print(p_value)"
   ]
  },
  {
   "cell_type": "code",
   "execution_count": 4,
   "metadata": {},
   "outputs": [
    {
     "name": "stdout",
     "output_type": "stream",
     "text": [
      "0.2755500000000001\n"
     ]
    }
   ],
   "source": [
    "mean = np.mean(t) \n",
    "print(mean)"
   ]
  },
  {
   "cell_type": "code",
   "execution_count": 5,
   "metadata": {},
   "outputs": [
    {
     "name": "stdout",
     "output_type": "stream",
     "text": [
      "0.0027451589090428715\n"
     ]
    }
   ],
   "source": [
    "std = np.std(t,ddof=1) \n",
    "print(std)"
   ]
  },
  {
   "cell_type": "code",
   "execution_count": 6,
   "metadata": {},
   "outputs": [
    {
     "name": "stdout",
     "output_type": "stream",
     "text": [
      "0.0004340477345839236\n"
     ]
    }
   ],
   "source": [
    "std_mean = std/np.sqrt(len(t)) \n",
    "print(std_mean)"
   ]
  },
  {
   "cell_type": "code",
   "execution_count": 7,
   "metadata": {},
   "outputs": [
    {
     "name": "stdout",
     "output_type": "stream",
     "text": [
      "0.005490317818085743\n"
     ]
    }
   ],
   "source": [
    "error_std = 2 * std \n",
    "print(error_std)"
   ]
  },
  {
   "cell_type": "code",
   "execution_count": 8,
   "metadata": {},
   "outputs": [
    {
     "name": "stdout",
     "output_type": "stream",
     "text": [
      "0.0008680954691678472\n"
     ]
    }
   ],
   "source": [
    "error_std_mean = 2 * std_mean\n",
    "print(error_std_mean)"
   ]
  }
 ],
 "metadata": {
  "kernelspec": {
   "display_name": "Python 3",
   "language": "python",
   "name": "python3"
  },
  "language_info": {
   "codemirror_mode": {
    "name": "ipython",
    "version": 3
   },
   "file_extension": ".py",
   "mimetype": "text/x-python",
   "name": "python",
   "nbconvert_exporter": "python",
   "pygments_lexer": "ipython3",
   "version": "3.11.3"
  },
  "orig_nbformat": 4
 },
 "nbformat": 4,
 "nbformat_minor": 2
}
